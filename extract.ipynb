{
 "cells": [
  {
   "cell_type": "markdown",
   "id": "9fd96cb0-5b54-4820-a44f-a93b42734c3d",
   "metadata": {},
   "source": [
    "# Extract text from PDF"
   ]
  },
  {
   "cell_type": "code",
   "execution_count": 35,
   "id": "925304a5-6201-416b-9c31-5f3d7f25c227",
   "metadata": {},
   "outputs": [
    {
     "name": "stdout",
     "output_type": "stream",
     "text": [
      "Number of pages: 9 \n",
      "\n",
      "Bitcoin: A Peer-to-Peer Electronic Cash System\n",
      "Satoshi Nakamoto\n",
      "satoshin@gmx.com\n",
      "www.bitcoin.org\n",
      "Abstract.   A purely peer-to-peer version of electronic cash would allow online \n",
      "payments to be sent directly from one party to another without going through a \n",
      "financial institution.   Digital signatures provide part of the solution, but the main \n",
      "benefits are lost if a trusted third party is still required to prevent double-spending. \n",
      "We propose a solution to the double-spending problem using a peer-to-peer network.  \n",
      "The network timestamps transactions by hashing them into an ongoing chain of \n",
      "hash-based proof-of-work, forming a record that cannot be changed without redoing \n",
      "the proof-of-work.  The longest chain not only serves as proof of the sequence of \n",
      "events witnessed, but proof that it came from the largest pool of CPU power.  As \n",
      "long as a majority of CPU power is controlled by nodes that are not cooperating to \n",
      "attack the network, they'll generate the longest chain and outpace attackers.   The \n",
      "network itself requires minimal structure.  Messages are broadcast on a best effort \n",
      "basis, and nodes can leave and rejoin the network at will, accepting the longest \n",
      "proof-of-work chain as proof of what happened while they were gone.\n",
      "1.Introduction\n",
      "Commerce on the Internet has come to rely almost exclusively on financial institutions serving as  \n",
      "trusted third parties to process electronic payments.  While the system works well enough for \n",
      "most   transactions,   it   still   suffers   from   the   inherent   weaknesses   of   the   trust   based   model. \n",
      "Completely non-reversible transactions are not really possible, since financial institutions cannot \n",
      "avoid   mediating   disputes.     The   cost   of   mediation   increases   transaction   costs,   limiting   the \n",
      "minimum practical transaction size and cutting off the possibility for small casual transactions, \n",
      "and there is a broader cost in the loss of ability to make non-reversible payments for non-\n",
      "reversible services.  With the possibility of reversal, the need for trust spreads.  Merchants must \n",
      "be wary of their customers, hassling them for more information than they would otherwise need. \n",
      "A certain percentage of fraud is accepted as unavoidable.  These costs and payment uncertainties \n",
      "can be avoided in person by using physical currency, but no mechanism exists to make payments \n",
      "over a communications channel without a trusted party.\n",
      "What is needed is an electronic payment system based on cryptographic proof instead of trust,  \n",
      "allowing any two willing parties to transact directly with each other without the need for a trusted  \n",
      "third party.   Transactions that are computationally impractical to reverse would protect sellers \n",
      "from fraud, and routine escrow mechanisms could easily be implemented to protect buyers.  In \n",
      "this paper, we propose a solution to the double-spending problem using a peer-to-peer distributed \n",
      "timestamp server to generate computational proof of the chronological order of transactions.  The  \n",
      "system   is   secure   as   long   as   honest   nodes   collectively   control   more   CPU   power   than   any \n",
      "cooperating group of attacker nodes.\n",
      "1\n"
     ]
    }
   ],
   "source": [
    "import PyPDF2\n",
    "pdf = open('../Downloads/bitcoin-white-paper.pdf', 'rb')\n",
    "reader = PyPDF2.PdfFileReader(pdf)\n",
    "print('Number of pages: ' + str(reader.getNumPages()), '\\n')\n",
    "page = reader.getPage(0)\n",
    "print(page.extractText())"
   ]
  },
  {
   "cell_type": "code",
   "execution_count": null,
   "id": "ca42a2a2-92fd-440e-aaea-542d08d884eb",
   "metadata": {},
   "outputs": [],
   "source": [
    "text = ''\n",
    "for i in range(reader.getNumPages()):\n",
    "    page = reader.getPage(0)"
   ]
  }
 ],
 "metadata": {
  "kernelspec": {
   "display_name": "Python 3 (ipykernel)",
   "language": "python",
   "name": "python3"
  },
  "language_info": {
   "codemirror_mode": {
    "name": "ipython",
    "version": 3
   },
   "file_extension": ".py",
   "mimetype": "text/x-python",
   "name": "python",
   "nbconvert_exporter": "python",
   "pygments_lexer": "ipython3",
   "version": "3.9.4"
  }
 },
 "nbformat": 4,
 "nbformat_minor": 5
}
